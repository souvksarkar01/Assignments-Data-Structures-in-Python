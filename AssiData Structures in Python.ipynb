{
  "metadata": {
    "kernelspec": {
      "name": "python",
      "display_name": "Python (Pyodide)",
      "language": "python"
    },
    "language_info": {
      "codemirror_mode": {
        "name": "python",
        "version": 3
      },
      "file_extension": ".py",
      "mimetype": "text/x-python",
      "name": "python",
      "nbconvert_exporter": "python",
      "pygments_lexer": "ipython3",
      "version": "3.8"
    }
  },
  "nbformat_minor": 4,
  "nbformat": 4,
  "cells": [
    {
      "cell_type": "code",
      "source": "# 1) Write a code to reverse a string.\nstr=[1,2,\"apple\",\"banana\"]\nstr.reverse()\nprint(str)",
      "metadata": {
        "trusted": true
      },
      "outputs": [
        {
          "name": "stdout",
          "text": "['banana', 'apple', 2, 1]\n",
          "output_type": "stream"
        }
      ],
      "execution_count": 3
    },
    {
      "cell_type": "code",
      "source": "# 2) Write a code to count the number of vowels in a string.\nstring = \"Pwskills\"\nvowels = \"aeiouAEIOU\"\n \ncount = sum(string.count(vowel) for vowel in vowels)\nprint(count)",
      "metadata": {
        "trusted": true
      },
      "outputs": [
        {
          "name": "stdout",
          "text": "1\n",
          "output_type": "stream"
        }
      ],
      "execution_count": 9
    },
    {
      "cell_type": "code",
      "source": "# 3)  Write a code to check if a given string is a palindrome or not.\nmy_str = 'aIbohPhoBiA'\nmy_str = my_str.casefold()\nrev_str = reversed(my_str)\n\nif list(my_str) == list(rev_str):\n   print(\"The string is a palindrome.\")\nelse:\n   print(\"The string is not a palindrome.\")\n\n",
      "metadata": {
        "trusted": true
      },
      "outputs": [
        {
          "name": "stdout",
          "text": "The string is a palindrome.\n",
          "output_type": "stream"
        }
      ],
      "execution_count": 18
    },
    {
      "cell_type": "code",
      "source": "# 4) Write a code to check if two given strings are anagrams of each other.\ndef areAnagrams(s1, s2):\n    charCount = {}\n    for ch in s1:\n        charCount[ch] = charCount.get(ch, 0) + 1\n    for ch in s2:\n        charCount[ch] = charCount.get(ch, 0) - 1\n   for value in charCount.values():\n        if value != 0:\n            return False\n    return True\nif __name__ == \"__main__\":\n    s1 = \"geeks\"\n    s2 = \"kseeg\"\n    print(\"true\" if areAnagrams(s1, s2) else \"false\")\n",
      "metadata": {
        "trusted": true
      },
      "outputs": [
        {
          "name": "stdout",
          "text": "true\n",
          "output_type": "stream"
        }
      ],
      "execution_count": 19
    },
    {
      "cell_type": "code",
      "source": "# 5) Write a code to find all occurrences of a given substring within another string\ntest_str = \"GeeksforGeeks is best for Geeks\"\ntest_sub = \"Geeks\"\nprint(\"The original string is : \" + test_str) \nprint(\"The substring to find : \" + test_sub) \nres = [i for i in range(len(test_str)) if test_str.startswith(test_sub, i)] \nprint(\"The start indices of the substrings are : \" + str(res)) \n",
      "metadata": {
        "trusted": true
      },
      "outputs": [
        {
          "name": "stdout",
          "text": "The original string is : GeeksforGeeks is best for Geeks\nThe substring to find : Geeks\n",
          "output_type": "stream"
        },
        {
          "ename": "<class 'TypeError'>",
          "evalue": "'list' object is not callable",
          "traceback": [
            "\u001b[0;31m---------------------------------------------------------------------------\u001b[0m",
            "\u001b[0;31mTypeError\u001b[0m                                 Traceback (most recent call last)",
            "Cell \u001b[0;32mIn[20], line 18\u001b[0m\n\u001b[1;32m     15\u001b[0m res \u001b[38;5;241m=\u001b[39m [i \u001b[38;5;28;01mfor\u001b[39;00m i \u001b[38;5;129;01min\u001b[39;00m \u001b[38;5;28mrange\u001b[39m(\u001b[38;5;28mlen\u001b[39m(test_str)) \u001b[38;5;28;01mif\u001b[39;00m test_str\u001b[38;5;241m.\u001b[39mstartswith(test_sub, i)] \n\u001b[1;32m     17\u001b[0m \u001b[38;5;66;03m# printing result \u001b[39;00m\n\u001b[0;32m---> 18\u001b[0m \u001b[38;5;28mprint\u001b[39m(\u001b[38;5;124m\"\u001b[39m\u001b[38;5;124mThe start indices of the substrings are : \u001b[39m\u001b[38;5;124m\"\u001b[39m \u001b[38;5;241m+\u001b[39m \u001b[38;5;28;43mstr\u001b[39;49m\u001b[43m(\u001b[49m\u001b[43mres\u001b[49m\u001b[43m)\u001b[49m) \n",
            "\u001b[0;31mTypeError\u001b[0m: 'list' object is not callable"
          ],
          "output_type": "error"
        }
      ],
      "execution_count": 20
    },
    {
      "cell_type": "code",
      "source": "# 6) Write a code to perform basic string compression using the counts of repeated characters.\n\n\n\ndef countChar(str, x):\n\tcount = 0\n\tfor i in range(len(str)): \n\t\tif (str[i] == x) :\n\t\t\tcount += 1\n\tn = 10\n\t\n\t\n\trepetitions = n // len(str) \n\tcount = count * repetitions \n\n\t\n\tl = n % len(str) \n\tfor i in range(l):\n\t\tif (str[i] == x): \n\t\t\tcount += 1\n\treturn count \n\n\nstr = \"abcac\"\nprint(countChar(str, 'a'))\n\n\n",
      "metadata": {
        "trusted": true
      },
      "outputs": [
        {
          "name": "stdout",
          "text": "4\n",
          "output_type": "stream"
        }
      ],
      "execution_count": 4
    },
    {
      "cell_type": "code",
      "source": "# 7) Write a code to determine if a string has all unique characters.\ndef isUniqueChars(st):\n\n\t\n\tif len(st) > 256:\n\t\treturn False\n\n\tchar_set = [False] * 128\n\n\n\tfor i in range(0, len(st)):\n\n\t\t\n\t\tval = ord(st[i])\n\t\tif char_set[val]:\n\t\t\treturn False\n\n\t\tchar_set[val] = True\n\n\treturn True\n\n\nst = \"abcd\"\nprint(isUniqueChars(st))\n",
      "metadata": {
        "trusted": true
      },
      "outputs": [
        {
          "name": "stdout",
          "text": "True\n",
          "output_type": "stream"
        }
      ],
      "execution_count": 10
    },
    {
      "cell_type": "code",
      "source": "# 8) Write a code to convert a given string to uppercase or lowercase\ns=(\"i am a student\")\ns.upper()\n",
      "metadata": {
        "trusted": true
      },
      "outputs": [
        {
          "execution_count": 15,
          "output_type": "execute_result",
          "data": {
            "text/plain": "'I AM A STUDENT'"
          },
          "metadata": {}
        }
      ],
      "execution_count": 17
    },
    {
      "cell_type": "code",
      "source": "s=( \"I AM A STUDENT\")\ns.lower()\n",
      "metadata": {
        "trusted": true
      },
      "outputs": [
        {
          "execution_count": 17,
          "output_type": "execute_result",
          "data": {
            "text/plain": "'i am a student'"
          },
          "metadata": {}
        }
      ],
      "execution_count": 19
    },
    {
      "cell_type": "code",
      "source": "# 9) Write a code to count the number of words in a string\ns=(\"pwskills\")\nlen(s)",
      "metadata": {
        "trusted": true
      },
      "outputs": [
        {
          "execution_count": 19,
          "output_type": "execute_result",
          "data": {
            "text/plain": "8"
          },
          "metadata": {}
        }
      ],
      "execution_count": 21
    },
    {
      "cell_type": "code",
      "source": "# 10) Write a code to concatenate two strings without using the + operator.\nstr1 = \"Hello\"    \nstr2 = \"world\"    \n   \nprint(\"% s  %s\" % (str1, str2))  ",
      "metadata": {
        "trusted": true
      },
      "outputs": [
        {
          "name": "stdout",
          "text": "Hello  world\n",
          "output_type": "stream"
        }
      ],
      "execution_count": 23
    },
    {
      "cell_type": "code",
      "source": "# 11) Write a code to remove all occurrences of a specific element from a list\nlist=[10,20,30,10,40,10,70]\nlist.remove(10)\nprint(list)",
      "metadata": {
        "trusted": true
      },
      "outputs": [
        {
          "name": "stdout",
          "text": "[20, 30, 10, 40, 10, 70]\n",
          "output_type": "stream"
        }
      ],
      "execution_count": 26
    },
    {
      "cell_type": "code",
      "source": "# 12) Implement a code to find the second largest number in a given list of integers\na = [10, 20, 4, 45, 99]\na.sort(reverse=True)\nprint(a[1])",
      "metadata": {
        "trusted": true
      },
      "outputs": [
        {
          "name": "stdout",
          "text": "45\n",
          "output_type": "stream"
        }
      ],
      "execution_count": 28
    },
    {
      "cell_type": "code",
      "source": "# 13) Create a code to count the occurrences of each element in a list and return a dictionary with elements as keys and their counts as values\nfrom collections import Counter\n\na = ['apple', 'banana', 'apple', 'orange', 'banana', 'banana']\nb = Counter(a)\nprint(b)",
      "metadata": {
        "trusted": true
      },
      "outputs": [
        {
          "name": "stdout",
          "text": "Counter({'banana': 3, 'apple': 2, 'orange': 1})\n",
          "output_type": "stream"
        }
      ],
      "execution_count": 30
    },
    {
      "cell_type": "code",
      "source": "# 14) Write a code to reverse a list in-place without using any built-in reverse functions\na = [1, 2, 3, 4, 5]\n\nstart = 0\nend = len(a) - 1\n\n# Swap elements until start index crosses end index\nwhile start < end:\n    a[start], a[end] = a[end], a[start]  \n    start += 1 \n    end -= 1  \nprint(a)",
      "metadata": {
        "trusted": true
      },
      "outputs": [
        {
          "name": "stdout",
          "text": "[5, 4, 3, 2, 1]\n",
          "output_type": "stream"
        }
      ],
      "execution_count": 36
    },
    {
      "cell_type": "code",
      "source": "# 15)  Implement a code to find and remove duplicates from a list while preserving the original order of elements.\na = [1, 2, 2, 3, 4, 4, 5]\n\n# Remove duplicates by converting to a set\na = (set(a))\n\nprint(a)\n",
      "metadata": {
        "trusted": true
      },
      "outputs": [
        {
          "name": "stdout",
          "text": "{1, 2, 3, 4, 5}\n",
          "output_type": "stream"
        }
      ],
      "execution_count": 42
    },
    {
      "cell_type": "code",
      "source": "# 16) Create a code to check if a given list is sorted (either in ascending or descending order) or not.\n# For checking ascending order\na = [1, 2, 3, 4, 5]\nprint(all(a[i] <= a[i + 1] for i in range(len(a) - 1)))\n\n",
      "metadata": {
        "trusted": true
      },
      "outputs": [
        {
          "name": "stdout",
          "text": "True\n",
          "output_type": "stream"
        }
      ],
      "execution_count": 45
    },
    {
      "cell_type": "code",
      "source": "# For checking descending order\nb = [5, 4, 3, 2, 1]\nprint(all(b[i] >= b[i + 1] for i in range(len(b) - 1)))",
      "metadata": {
        "trusted": true
      },
      "outputs": [
        {
          "name": "stdout",
          "text": "True\n",
          "output_type": "stream"
        }
      ],
      "execution_count": 46
    },
    {
      "cell_type": "code",
      "source": "# 17) Write a code to merge two sorted lists into a single sorted list.\nmy_list=[ \"apple\", \"banana\", \"orange\"]\nmom_list=[\"cake\",\"wheat\",\"potato\"]\nmy_list.extend(mom_list)\nprint(my_list)",
      "metadata": {
        "trusted": true
      },
      "outputs": [
        {
          "name": "stdout",
          "text": "['apple', 'banana', 'orange', 'cake', 'wheat', 'potato']\n",
          "output_type": "stream"
        }
      ],
      "execution_count": 48
    },
    {
      "cell_type": "code",
      "source": "# 18)  Implement a code to find the intersection of two given lists.\n\ndef intersection(lst1, lst2):\n    lst3 = [value for value in lst1 if value in lst2]\n    return lst3\nlst1 = [4, 9, 1, 17, 11, 26, 28, 54, 69]\nlst2 = [9, 9, 74, 21, 45, 11, 63, 28, 26]\nprint(intersection(lst1, lst2))",
      "metadata": {
        "trusted": true
      },
      "outputs": [
        {
          "name": "stdout",
          "text": "[9, 11, 26, 28]\n",
          "output_type": "stream"
        }
      ],
      "execution_count": 51
    },
    {
      "cell_type": "code",
      "source": "# 19) Create a code to find the union of two lists without duplicates.\nlist1 = [7, 8, 9]\nlist2 = [9, 10, 11]\nmerged_list = []\nfor item in list1 + list2:\n    if item not in merged_list:\n        merged_list.append(item)\nprint(merged_list)",
      "metadata": {
        "trusted": true
      },
      "outputs": [
        {
          "name": "stdout",
          "text": "[7, 8, 9, 10, 11]\n",
          "output_type": "stream"
        }
      ],
      "execution_count": 60
    },
    {
      "cell_type": "code",
      "source": "# 20) Write a code to shuffle a given list randomly without using any built-in shuffle functions.\n\nimport random\n\ndef shuffle_list(lst):\n  \"\"\"Shuffles a list randomly without using built-in shuffle functions.\"\"\"\n\n  n = len(lst)\n  for i in range(n - 1, 0, -1):\n    j = random.randint(0, i)\n    lst[i], lst[j] = lst[j], lst[i]\n\n  return lst\n\nmy_list = [1, 2, 3, 4, 5]\nprint(shuffle_list(my_list))",
      "metadata": {
        "trusted": true
      },
      "outputs": [
        {
          "name": "stdout",
          "text": "[1, 3, 5, 2, 4]\n",
          "output_type": "stream"
        }
      ],
      "execution_count": 62
    },
    {
      "cell_type": "code",
      "source": "# 21) Write a code that takes two tuples as input and returns a new tuple containing elements that are common to both input tuples.\nt1=(1,2,100,200)\nt2=(201,1000)\nt3=(t1,t2)\nprint(t3)\n",
      "metadata": {
        "trusted": true
      },
      "outputs": [
        {
          "name": "stdout",
          "text": "((1, 2, 100, 200), (201, 1000))\n",
          "output_type": "stream"
        }
      ],
      "execution_count": 63
    },
    {
      "cell_type": "code",
      "source": "# 22) Create a code that prompts the user to enter two sets of integers separated by commas. Then, print the intersection of these two sets.\ns1 = {1, 2, 3}\ns2 = {2, 3}\nprint(s1.intersection(s2))\n\n",
      "metadata": {
        "trusted": true
      },
      "outputs": [
        {
          "name": "stdout",
          "text": "{2, 3}\n",
          "output_type": "stream"
        }
      ],
      "execution_count": 64
    },
    {
      "cell_type": "code",
      "source": "# 23) Write a code to concatenate two tuples. The function should take two tuples as input and return a new tuple containing elements from both input tuples.\ntuple1 = (\"a\", \"b\" , \"c\")\ntuple2 = (1, 2, 3)\n\ntuple3 = tuple1 + tuple2\nprint(tuple3)",
      "metadata": {
        "trusted": true
      },
      "outputs": [
        {
          "name": "stdout",
          "text": "('a', 'b', 'c', 1, 2, 3)\n",
          "output_type": "stream"
        }
      ],
      "execution_count": 65
    },
    {
      "cell_type": "code",
      "source": "# 24) Develop a code that prompts the user to input two sets of strings. Then, print the elements that are present in the first set but not in the second set.\n\na = \"geeksforgeeks\"\nb = \"geeks\"\nsetA = set(a)\nsetB = set(b)\nresult = setA-setB\nprint(result)\n",
      "metadata": {
        "trusted": true
      },
      "outputs": [
        {
          "name": "stdout",
          "text": "{'o', 'f', 'r'}\n",
          "output_type": "stream"
        }
      ],
      "execution_count": 67
    },
    {
      "cell_type": "code",
      "source": "# 25) Create a code that takes a tuple and two integers as input. The function should return a new tuple containing elements from the original tuple within the specified range of indices.\nlist1 = [1, 2, 5, 6]\nres = [(val, pow(val, 3)) for val in list1]\nprint(res)\n",
      "metadata": {
        "trusted": true
      },
      "outputs": [
        {
          "name": "stdout",
          "text": "[(1, 1), (2, 8), (5, 125), (6, 216)]\n",
          "output_type": "stream"
        }
      ],
      "execution_count": 69
    },
    {
      "cell_type": "code",
      "source": "# 26) Write a code that prompts the user to input two sets of characters. Then, print the union of these two sets.\nA = {2, 4, 5, 6} \nB = {4, 6, 7, 8}\n\nprint(\"A U B:\", A.union(B))\n",
      "metadata": {
        "trusted": true
      },
      "outputs": [
        {
          "name": "stdout",
          "text": "A U B: {2, 4, 5, 6, 7, 8}\n",
          "output_type": "stream"
        }
      ],
      "execution_count": 70
    },
    {
      "cell_type": "code",
      "source": "# 27) Develop a code that takes a tuple of integers as input. The function should return the maximum and minimum values from the tuple using tuple unpacking.\nmy_tuple = (10, 20, 30, 40, 50)\n\nmax_value = max(my_tuple)\n\nprint(max_value)",
      "metadata": {
        "trusted": true
      },
      "outputs": [
        {
          "name": "stdout",
          "text": "50\n",
          "output_type": "stream"
        }
      ],
      "execution_count": 4
    },
    {
      "cell_type": "code",
      "source": "my_tuple = (10, 5, 8, 2, 15)\nmin_value = min(my_tuple)\n\nprint(min_value)",
      "metadata": {
        "trusted": true
      },
      "outputs": [
        {
          "name": "stdout",
          "text": "2\n",
          "output_type": "stream"
        }
      ],
      "execution_count": 5
    },
    {
      "cell_type": "code",
      "source": "# 28) Create a code that defines two sets of integers. Then, print the union, intersection, and difference of these two sets.\nx = {\"apple\", \"banana\", \"cherry\"}\ny = {\"google\", \"microsoft\", \"apple\"}\n#intersection\nz = x.intersection(y)\nprint(z)\n\n#union\na=x.union(y)\nprint(a)\n\n#difference\nb=x.difference(y)\nprint(b)\n\n",
      "metadata": {
        "trusted": true
      },
      "outputs": [
        {
          "name": "stdout",
          "text": "{'apple'}\n{'cherry', 'apple', 'microsoft', 'google', 'banana'}\n{'banana', 'cherry'}\n",
          "output_type": "stream"
        }
      ],
      "execution_count": 16
    },
    {
      "cell_type": "code",
      "source": "# 29) Write a code that takes a tuple and an element as input. The function should return the count of occurrences of the given element in the tuple.\n# Program to count the number of times an element\n# Present in the list\n\ndef countX(tup, x):\n\tcount = 0\n\tfor ele in tup:\n\t\tif (ele == x):\n\t\t\tcount = count + 1\n\treturn count\ntup = (10, 8, 5, 2, 10, 15, 10, 8, 5, 8, 8, 2)\nenq = 4\nenq1 = 10\nenq2 = 8\n\nprint(countX(tup, enq))\nprint(countX(tup, enq1))\nprint(countX(tup, enq2))\n",
      "metadata": {
        "trusted": true
      },
      "outputs": [
        {
          "name": "stdout",
          "text": "0\n3\n4\n",
          "output_type": "stream"
        }
      ],
      "execution_count": 18
    },
    {
      "cell_type": "code",
      "source": "# 30) Develop a code that prompts the user to input two sets of strings. Then, print the symmetric difference of these two sets.\nset_A = input()\nset_B = input()\nprint(set_A.symmetric_difference(set_B))\n",
      "metadata": {
        "trusted": true
      },
      "outputs": [
        {
          "ename": "<class 'AttributeError'>",
          "evalue": "'PyodideFuture' object has no attribute 'symmetric_difference'",
          "traceback": [
            "\u001b[0;31m---------------------------------------------------------------------------\u001b[0m",
            "\u001b[0;31mAttributeError\u001b[0m                            Traceback (most recent call last)",
            "Cell \u001b[0;32mIn[5], line 4\u001b[0m\n\u001b[1;32m      2\u001b[0m set_A \u001b[38;5;241m=\u001b[39m \u001b[38;5;28minput\u001b[39m()\n\u001b[1;32m      3\u001b[0m set_B \u001b[38;5;241m=\u001b[39m \u001b[38;5;28minput\u001b[39m()\n\u001b[0;32m----> 4\u001b[0m \u001b[38;5;28mprint\u001b[39m(\u001b[43mset_A\u001b[49m\u001b[38;5;241;43m.\u001b[39;49m\u001b[43msymmetric_difference\u001b[49m(set_B))\n",
            "\u001b[0;31mAttributeError\u001b[0m: 'PyodideFuture' object has no attribute 'symmetric_difference'"
          ],
          "output_type": "error"
        }
      ],
      "execution_count": 5
    },
    {
      "cell_type": "code",
      "source": "# 31) Write a code that takes a list of words as input and returns a dictionary where the keys are unique words and the values are the frequencies of those words in the input list.\nfrom collections import Counter\n\na = ['apple', 'banana', 'apple', 'orange', 'banana', 'banana']\nb = Counter(a)\nprint(b)",
      "metadata": {
        "trusted": true
      },
      "outputs": [
        {
          "name": "stdout",
          "text": "Counter({'banana': 3, 'apple': 2, 'orange': 1})\n",
          "output_type": "stream"
        }
      ],
      "execution_count": 1
    },
    {
      "cell_type": "code",
      "source": "# 32) Write a code that takes two dictionaries as input and merges them into a single dictionary. If there are common keys, the values should be added together.\n\ndict1 = {'a': 12, 'for': 25, 'c': 9}\ndict2 = {'Geeks': 100, 'geek': 200, 'for': 300}\n\nfor key in dict2:\n\tif key in dict1:\n\t\tdict2[key] = dict2[key] + dict1[key]\n\telse:\n\t\tpass\n\t\t\nprint(dict2)\n",
      "metadata": {
        "trusted": true
      },
      "outputs": [
        {
          "name": "stdout",
          "text": "{'Geeks': 100, 'geek': 200, 'for': 325}\n",
          "output_type": "stream"
        }
      ],
      "execution_count": 2
    },
    {
      "cell_type": "code",
      "source": "# 33) Write a code to access a value in a nested dictionary. The function should take the dictionary and a list of keys as input, and return the corresponding value. If any of the keys do not exist in the dictionary, the function should return None.\npeople = {1: {'name': 'John', 'age': '27', 'sex': 'Male'},\n          2: {'name': 'Marie', 'age': '22', 'sex': 'Female'}}\n\nprint(people)",
      "metadata": {
        "trusted": true
      },
      "outputs": [
        {
          "name": "stdout",
          "text": "{1: {'name': 'John', 'age': '27', 'sex': 'Male'}, 2: {'name': 'Marie', 'age': '22', 'sex': 'Female'}}\n",
          "output_type": "stream"
        }
      ],
      "execution_count": 3
    },
    {
      "cell_type": "code",
      "source": "#for access the element\npeople = {1: {'name': 'John', 'age': '27', 'sex': 'Male'},\n          2: {'name': 'Marie', 'age': '22', 'sex': 'Female'}}\n\nprint(people[1]['name'])\nprint(people[1]['age'])\nprint(people[1]['sex'])",
      "metadata": {
        "trusted": true
      },
      "outputs": [
        {
          "name": "stdout",
          "text": "John\n27\nMale\n",
          "output_type": "stream"
        }
      ],
      "execution_count": 4
    },
    {
      "cell_type": "code",
      "source": "# 34) Write a code that takes a dictionary as input and returns a sorted version of it based on the values. You can choose whether to sort in ascending or descending order.\nmy_dict = {\"apple\": 10, \"banana\": 5, \"orange\": 15, \"grape\": 2}\nsorted_dict_asc = sort_dict_by_value(my_dict)  # Sorts ascending\nprint(sorted_dict_asc)  # Output: {'grape': 2, 'banana': 5, 'apple': 10, 'orange': 15}\n\nsorted_dict_desc = sort_dict_by_value(my_dict, ascending=False)  # Sorts descending\nprint(sorted_dict_desc)  # Output: {'orange': 15, 'apple': 10, 'banana': 5, 'grape': 2}",
      "metadata": {
        "trusted": true
      },
      "outputs": [
        {
          "name": "stdout",
          "text": "{'grape': 2, 'banana': 5, 'apple': 10, 'orange': 15}\n{'orange': 15, 'apple': 10, 'banana': 5, 'grape': 2}\n",
          "output_type": "stream"
        }
      ],
      "execution_count": 7
    },
    {
      "cell_type": "code",
      "source": "# 35) Write a code that inverts a dictionary, swapping keys and values. Ensure that the inverted dictionary correctly handles cases where multiple keys have the same value by storing the keys as a list in the inverted dictionary.\n\n# swap of key and value \nold_dict = {'A': 67, 'B': 23, 'C': 45, 'D': 56, 'E': 12, 'F': 69, 'G': 67, 'H': 23}\n\nnew_dict = dict([(value, key) for key, value in old_dict.items()])\nprint (\"Original dictionary is : \")\nprint(old_dict) \n\nprint()\n\nprint (\"Dictionary after swapping is : \") \nprint(\"keys: values\")\nfor i in new_dict:\n\tprint(i, \" : \", new_dict[i])\n",
      "metadata": {
        "trusted": true
      },
      "outputs": [
        {
          "name": "stdout",
          "text": "Original dictionary is : \n{'A': 67, 'B': 23, 'C': 45, 'D': 56, 'E': 12, 'F': 69, 'G': 67, 'H': 23}\n\nDictionary after swapping is : \nkeys: values\n67  :  G\n23  :  H\n45  :  C\n56  :  D\n12  :  E\n69  :  F\n",
          "output_type": "stream"
        }
      ],
      "execution_count": 8
    },
    {
      "cell_type": "code",
      "source": "# invert a dictionary\n\nini_dict = {101: \"akshat\", 201 : \"ball\"}\nprint(\"initial dictionary : \", str(ini_dict))\ninv_dict = {v: k for k, v in ini_dict.items()}\nprint(\"inverse mapped dictionary : \", str(inv_dict))\n",
      "metadata": {
        "trusted": true
      },
      "outputs": [
        {
          "name": "stdout",
          "text": "initial dictionary :  {101: 'akshat', 201: 'ball'}\ninverse mapped dictionary :  {'akshat': 101, 'ball': 201}\n",
          "output_type": "stream"
        }
      ],
      "execution_count": 10
    },
    {
      "cell_type": "code",
      "source": "",
      "metadata": {
        "trusted": true
      },
      "outputs": [],
      "execution_count": null
    }
  ]
}